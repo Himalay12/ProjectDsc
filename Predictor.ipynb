{
 "cells": [
  {
   "cell_type": "code",
   "execution_count": 1,
   "metadata": {},
   "outputs": [],
   "source": [
    "import tensorflow as tf\n",
    "import numpy as np\n",
    "import pandas as pd\n",
    "from PIL import Image"
   ]
  },
  {
   "cell_type": "code",
   "execution_count": 2,
   "metadata": {},
   "outputs": [],
   "source": [
    "# Propagator Function\n",
    "\n",
    "def Propagator(N, Lambda, area, z):\n",
    "    P = np.zeros((N,N), dtype=np.complex)\n",
    "    for i in range(1, N+1):\n",
    "        for j in range(1, N+1):\n",
    "            alpha = Lambda*(i-1-N/2)/area\n",
    "            beta = Lambda*(j-1-N/2)/area\n",
    "            \n",
    "            if((alpha**2+beta**2) <= 1):\n",
    "                P[i-1][j-1] = np.exp(-(2j*np.pi*z)*(1-(alpha**2+beta**2))/Lambda)\n",
    "    return P\n",
    "        "
   ]
  },
  {
   "cell_type": "code",
   "execution_count": 3,
   "metadata": {},
   "outputs": [],
   "source": [
    "#2D centered Fourier Transfrom\n",
    "\n",
    "def FT2DC(Input):\n",
    "    [Nx, Ny] = Input.shape\n",
    "    \n",
    "    f1 = np.zeros(Input.shape, dtype=np.complex)\n",
    "    for i in range(1, Nx+1):\n",
    "        for j in range(1, Ny+1):\n",
    "            f1[i-1][j-1] = f1[i-1][j-1] + np.exp(1j*np.pi*(i+j))\n",
    "            \n",
    "    FT = np.fft.fft2(f1*Input)\n",
    "    Output = f1*FT\n",
    "    return Output\n",
    "    "
   ]
  },
  {
   "cell_type": "code",
   "execution_count": 4,
   "metadata": {
    "scrolled": true
   },
   "outputs": [],
   "source": [
    "#2D centered Inverse Fourier Transfrom\n",
    "\n",
    "def IFT2DC(Input):\n",
    "    [Nx, Ny] = Input.shape\n",
    "    \n",
    "    f1 = np.zeros(Input.shape, dtype=np.complex)\n",
    "    for i in range(1, Nx+1):\n",
    "        for j in range(1, Ny+1):\n",
    "            f1[i-1][j-1] = np.exp(1j*np.pi*(i+j))\n",
    "            \n",
    "    FT = np.fft.ifft2(f1*Input)\n",
    "    Output = f1*FT\n",
    "    return Output\n"
   ]
  },
  {
   "cell_type": "code",
   "execution_count": 5,
   "metadata": {},
   "outputs": [],
   "source": [
    "# Input Image\n",
    "Img = Image.open('a_hair.jpg')\n",
    "\n",
    "# Parameters \n",
    "N = Img.width                               #number of pixels\n",
    "Lambda = 532*10**(-9)                       #wavelength in meter\n",
    "object_area = 0.002                         #object area sidelength in meter\n",
    "z = 0.05                                    #object-to-detector distance in meter\n"
   ]
  },
  {
   "cell_type": "code",
   "execution_count": 15,
   "metadata": {},
   "outputs": [
    {
     "output_type": "execute_result",
     "data": {
      "text/plain": "(500, 500)"
     },
     "metadata": {},
     "execution_count": 15
    }
   ],
   "source": [
    "Img.size"
   ]
  },
  {
   "cell_type": "code",
   "execution_count": 42,
   "metadata": {},
   "outputs": [],
   "source": [
    "#Simulation of inline Hologram with plane wave\n",
    "######################################################################\n",
    "\n",
    "def simulate(N, Lambda, object_area, z, Img):\n",
    "    #Creating object plane transmission function\n",
    "    object_plane = np.zeros((N,N), dtype=np.complex)\n",
    "    Img = np.array(Img)[:,:,:1].reshape((N,N))\n",
    "    object_plane = (Img - np.min(Img))/(np.max(Img) - np.min(Img))\n",
    "\n",
    "    am = np.exp(-1.6*object_plane)\n",
    "    ph = -3*object_plane\n",
    "\n",
    "    t=np.zeros((N,N), dtype=np.complex)\n",
    "    t=am*np.exp(1j*ph)\n",
    "    ############################################################################\n",
    "    # Simulating hologram\n",
    "\n",
    "    prop = Propagator(N, Lambda, object_area, z)\n",
    "    U = IFT2DC(FT2DC(t)*np.conj(prop))\n",
    "    hologram = np.absolute(U)**2\n",
    "\n",
    "    return hologram\n"
   ]
  },
  {
   "cell_type": "code",
   "execution_count": 43,
   "metadata": {
    "tags": []
   },
   "outputs": [
    {
     "output_type": "execute_result",
     "data": {
      "text/plain": "array([[0.94261566, 1.00337454, 1.03559504, ..., 0.88065456, 0.87538521,\n        0.89334364],\n       [0.94942774, 1.00274052, 1.0407264 , ..., 0.96369642, 0.92979973,\n        0.91588668],\n       [0.97037883, 1.01607083, 1.05644186, ..., 1.04969769, 1.00075143,\n        0.95534515],\n       ...,\n       [1.03229327, 1.05890323, 1.07983932, ..., 0.90773689, 0.95289157,\n        0.99313598],\n       [1.00594197, 1.05204196, 1.07042395, ..., 0.87425544, 0.90905003,\n        0.95652566],\n       [0.96250774, 1.02223972, 1.0444928 , ..., 0.85422096, 0.86918331,\n        0.90850894]])"
     },
     "metadata": {},
     "execution_count": 43
    }
   ],
   "source": [
    "(simulate(N, Lambda, object_area, z, Img))"
   ]
  },
  {
   "cell_type": "code",
   "execution_count": 44,
   "metadata": {
    "tags": []
   },
   "outputs": [],
   "source": [
    "# ITERATIVE TWIN-IMAGE-FREE RECONSTRUCTION OF IN-LINE HOLOGRAM\n",
    "\n",
    "####################################################################\n",
    "iterations = 50\n",
    "p = 0.01\n",
    "\n",
    "#####################################################################\n",
    "# Reading hologram\n",
    "measured = np.sqrt(simulate(N, Lambda, object_area, z, Img))\n",
    "\n",
    "\n",
    "# creating initail complex-valued field distribution in the detector plane\n",
    "phase = np.zeros((N,N), dtype=np.complex)\n",
    "field_detector = measured*np.exp(1j*phase)\n",
    "\n",
    "# Creating wave propagation term\n",
    "prop = Propagator(N, Lambda, object_area, z)\n",
    "\n",
    "#Iterative Reconstruction\n",
    "\n",
    "\n",
    "for kk in range(1, iterations):\n",
    "    field_detector = measured*np.exp(1j*phase)\n",
    "    \n",
    "    # Reconstruction of transmission function t\n",
    "    t = IFT2DC((FT2DC(field_detector))*prop)\n",
    "    am = np.absolute(t)\n",
    "    ph = np.angle(t)\n",
    "\n",
    "    abso = - np.log(am)\n",
    "    # Constraint in the object domain\n",
    "    for ii in range(1, N+1):\n",
    "        for jj in range(1, N+1):\n",
    "            if ((abso[ii-1][jj-1] < 0)):\n",
    "                abso[ii-1][jj-1] = 0\n",
    "                ph[ii-1][jj-1] = 0\n",
    "    \n",
    "    am = np.exp(-abso)\n",
    "\n",
    "    t = np.zeros((N,N), dtype=np.complex)\n",
    "\n",
    "    for ii in range(1, N+1):\n",
    "        for jj in range(1, N+1):\n",
    "            t[ii-1][jj-1] = np.complex(am[ii-1][jj-1]*np.cos(ph[ii-1][jj-1]), am[ii-1][jj-1]*np.sin(ph[ii-1][jj-1]))\n",
    "\n",
    "    field_detector_updated = FT2DC(IFT2DC(t)*np.conj(prop))\n",
    "    amplitude = np.absolute(field_detector_updated)\n",
    "    phase = np.angle(field_detector_updated)\n",
    "\n",
    "    if(kk%10 == 0):\n",
    "        h = -am\n",
    "        h = (h - np.min(h))/(np.max(h) - np.min(h))\n",
    "        Image.fromarray(h*255).convert('RGB').show()\n"
   ]
  },
  {
   "cell_type": "code",
   "execution_count": 45,
   "metadata": {},
   "outputs": [],
   "source": [
    "h = -am\n",
    "h = (h - np.min(h))/(np.max(h) - np.min(h))\n",
    "Image.fromarray(h*255).convert('RGB').show()"
   ]
  },
  {
   "cell_type": "code",
   "execution_count": null,
   "metadata": {},
   "outputs": [],
   "source": []
  }
 ],
 "metadata": {
  "kernelspec": {
   "display_name": "Python 3",
   "language": "python",
   "name": "python3"
  },
  "language_info": {
   "codemirror_mode": {
    "name": "ipython",
    "version": 3
   },
   "file_extension": ".py",
   "mimetype": "text/x-python",
   "name": "python",
   "nbconvert_exporter": "python",
   "pygments_lexer": "ipython3",
   "version": "3.7.6-final"
  }
 },
 "nbformat": 4,
 "nbformat_minor": 4
}