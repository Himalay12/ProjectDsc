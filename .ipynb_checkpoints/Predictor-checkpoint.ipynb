{
 "cells": [
  {
   "cell_type": "code",
   "execution_count": 8,
   "metadata": {},
   "outputs": [],
   "source": [
    "import tensorflow as tf\n",
    "import numpy as np\n",
    "import pandas as pd"
   ]
  },
  {
   "cell_type": "code",
   "execution_count": 15,
   "metadata": {},
   "outputs": [],
   "source": [
    "# Propagator Function\n",
    "\n",
    "def Propagator(N, Lambda, area, z):\n",
    "    P = np.zeros((N,N), dtype=np.complex)\n",
    "    for i in range(1, N+1):\n",
    "        for j in range(1, N+1):\n",
    "            alpha = Lambda*(i-1-N/2)/area\n",
    "            beta = Lambda*(j-1-N/2)/area\n",
    "            \n",
    "            if((alpha**2+beta**2) <= 1):\n",
    "                P[i-1][j-1] = np.exp(-(2j*np.pi*z)*(1-(alpha**2+beta**2))/Lambda)\n",
    "    return P\n",
    "        "
   ]
  },
  {
   "cell_type": "code",
   "execution_count": 32,
   "metadata": {},
   "outputs": [],
   "source": [
    "#2D centered Fourier Transfrom\n",
    "\n",
    "def FT2DC(Input):\n",
    "    [Nx, Ny] = Input.size;\n",
    "    \n",
    "    f1 = np.zeros(Input.size, dtype=np.complex)\n",
    "    for i in range(1, Nx+1):\n",
    "        for j in range(1, Ny+1):\n",
    "            f1[i][j] = np.exp(1j*np.pi*(i+j))\n",
    "            \n",
    "    FT = np.fft.fft2(f1*Input)\n",
    "    Output = f1*FT\n",
    "    return Output\n",
    "    "
   ]
  },
  {
   "cell_type": "code",
   "execution_count": 33,
   "metadata": {
    "scrolled": true
   },
   "outputs": [],
   "source": [
    "#2D centered Inverse Fourier Transfrom\n",
    "\n",
    "def IFT2DC(Input):\n",
    "    [Nx, Ny] = Input.size;\n",
    "    \n",
    "    f1 = np.zeros(Input.size, dtype=np.complex)\n",
    "    for i in range(1, Nx+1):\n",
    "        for j in range(1, Ny+1):\n",
    "            f1[i-1][j-1] = np.exp(1j*np.pi*(i+j))\n",
    "            \n",
    "    FT = np.fft.ifft2(f1*Input)\n",
    "    Output = f1*FT\n",
    "    return Output\n"
   ]
  },
  {
   "cell_type": "code",
   "execution_count": 31,
   "metadata": {},
   "outputs": [
    {
     "data": {
      "text/plain": [
       "array([[1, 2],\n",
       "       [2, 4]])"
      ]
     },
     "execution_count": 31,
     "metadata": {},
     "output_type": "execute_result"
    }
   ],
   "source": [
    "a=np.array([1,2])\n",
    "b=np.array([[1],[2]])\n",
    "a*b"
   ]
  },
  {
   "cell_type": "code",
   "execution_count": null,
   "metadata": {},
   "outputs": [],
   "source": []
  }
 ],
 "metadata": {
  "kernelspec": {
   "display_name": "Python 3",
   "language": "python",
   "name": "python3"
  },
  "language_info": {
   "codemirror_mode": {
    "name": "ipython",
    "version": 3
   },
   "file_extension": ".py",
   "mimetype": "text/x-python",
   "name": "python",
   "nbconvert_exporter": "python",
   "pygments_lexer": "ipython3",
   "version": "3.7.6"
  }
 },
 "nbformat": 4,
 "nbformat_minor": 4
}
